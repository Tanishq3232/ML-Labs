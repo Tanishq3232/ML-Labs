{
 "cells": [
  {
   "cell_type": "markdown",
   "metadata": {},
   "source": [
    "# Lab-13 K-Means and K-Mode Clustering"
   ]
  },
  {
   "cell_type": "markdown",
   "metadata": {},
   "source": [
    "## Tanishq Gupta - 19BCE1392"
   ]
  },
  {
   "cell_type": "code",
   "execution_count": 1,
   "metadata": {},
   "outputs": [],
   "source": [
    "import numpy as np\n",
    "import pandas as pd\n",
    "import random \n",
    "import math"
   ]
  },
  {
   "cell_type": "code",
   "execution_count": 2,
   "metadata": {},
   "outputs": [],
   "source": [
    "X = [[2,4], [2,6], [5,6], [4, 7], [8, 3], [6, 6], [5, 2], [5, 7], [6, 3], [4, 4]]"
   ]
  },
  {
   "cell_type": "code",
   "execution_count": 3,
   "metadata": {},
   "outputs": [],
   "source": [
    "#k-means (without packages)\n",
    "def dist(point_mat, l, cluster):\n",
    "    n = len(point_mat)\n",
    "    dist = []\n",
    "    for i in range(n):\n",
    "        d = 0\n",
    "        for j in range(l):\n",
    "            d += (point_mat[i][j] - cluster[j])**2\n",
    "        dist.append(math.sqrt(d))\n",
    "    return dist"
   ]
  },
  {
   "cell_type": "code",
   "execution_count": 4,
   "metadata": {},
   "outputs": [],
   "source": [
    "def new_clusters(points, point_class, k, n, l):\n",
    "    clusters = []\n",
    "    for i in range(k):\n",
    "        c = []\n",
    "        for j in range(n):\n",
    "            if(point_class[j] == i):\n",
    "                c.append(points[j])\n",
    "        clusters.append(c)\n",
    "    new_clusters = []\n",
    "    for cluster in clusters:\n",
    "        m = len(cluster)\n",
    "        if(m != 0):\n",
    "            c = []\n",
    "            for j in range(l):\n",
    "                sum_point = 0\n",
    "                for i in range(m):\n",
    "                    sum_point += cluster[i][j]\n",
    "                c.append(sum_point/m)\n",
    "            new_clusters.append(c)\n",
    "    return new_clusters"
   ]
  },
  {
   "cell_type": "code",
   "execution_count": 5,
   "metadata": {},
   "outputs": [],
   "source": [
    "def classify_point(clusters, points, l, k, n):\n",
    "    dist_mat = []\n",
    "    for cluster in clusters:\n",
    "        dist_mat.append(dist(points, l, cluster))\n",
    "    point_class = []\n",
    "    for i in range(n):\n",
    "        d = []\n",
    "        for j in range(k):\n",
    "            d.append(dist_mat[j][i])\n",
    "        min_in = -1\n",
    "        min_dist = 10000000\n",
    "        for j in range(k):\n",
    "            if(min_dist > d[j]):\n",
    "                min_dist = d[j]\n",
    "                min_in = j\n",
    "        point_class.append(min_in)\n",
    "    return point_class"
   ]
  },
  {
   "cell_type": "code",
   "execution_count": 6,
   "metadata": {},
   "outputs": [],
   "source": [
    "def kmean_cluster(k, l, points):\n",
    "    n = len(points)\n",
    "    clusters = []\n",
    "    rand_list = random.sample(range(n), k)\n",
    "    for r in rand_list:\n",
    "        clusters.append(points[r])\n",
    "    print('Initial Cluster Centroids :')\n",
    "    print(clusters)\n",
    "    point_class = classify_point(clusters, points, l, k, n)\n",
    "    iterations = 10\n",
    "    for i in range(iterations):\n",
    "        clusters = new_clusters(points, point_class, k, n, l)\n",
    "        point_class = classify_point(clusters, points, l, k, n)\n",
    "    print('Class : ')\n",
    "    print(point_class)\n",
    "    return point_class, clusters"
   ]
  },
  {
   "cell_type": "code",
   "execution_count": 7,
   "metadata": {},
   "outputs": [
    {
     "data": {
      "text/plain": [
       "[[2, 4],\n",
       " [2, 6],\n",
       " [5, 6],\n",
       " [4, 7],\n",
       " [8, 3],\n",
       " [6, 6],\n",
       " [5, 2],\n",
       " [5, 7],\n",
       " [6, 3],\n",
       " [4, 4]]"
      ]
     },
     "execution_count": 7,
     "metadata": {},
     "output_type": "execute_result"
    }
   ],
   "source": [
    "length = 2\n",
    "X"
   ]
  },
  {
   "cell_type": "code",
   "execution_count": 8,
   "metadata": {},
   "outputs": [
    {
     "name": "stdout",
     "output_type": "stream",
     "text": [
      "Initial Cluster Centroids :\n",
      "[[2, 6], [6, 3]]\n",
      "Class : \n",
      "[0, 0, 0, 0, 1, 0, 1, 0, 1, 0]\n"
     ]
    }
   ],
   "source": [
    "k = 2\n",
    "yk, clusters = kmean_cluster(k, length, X)"
   ]
  },
  {
   "cell_type": "code",
   "execution_count": 9,
   "metadata": {},
   "outputs": [
    {
     "data": {
      "image/png": "[encoded data removed]",
      "text/plain": [
       "<Figure size 432x288 with 1 Axes>"
      ]
     },
     "metadata": {
      "needs_background": "light"
     },
     "output_type": "display_data"
    }
   ],
   "source": [
    "import matplotlib.pyplot as plt\n",
    "X_0 = []\n",
    "Y_0 = []\n",
    "X_1 = []\n",
    "Y_1 = []\n",
    "for i in range(len(yk)):\n",
    "    if(yk[i] == 0):\n",
    "        X_0.append(X[i][0])\n",
    "        Y_0.append(X[i][1])\n",
    "    else:\n",
    "        X_1.append(X[i][0])\n",
    "        Y_1.append(X[i][1])\n",
    "plt.scatter(X_0, Y_0, s=50, c='blue', marker='s', edgecolor='black', label='Cluster 1')\n",
    "plt.scatter(X_1, Y_1, s=50, c='red', marker='s', edgecolor='black', label='Cluster 2')\n",
    "for i in range(len(clusters)):\n",
    "    plt.scatter(clusters[i][0], clusters[i][1],  s=100, marker='x', c='pink', label='Centroids')\n",
    "plt.legend(scatterpoints=1)\n",
    "plt.show()"
   ]
  },
  {
   "cell_type": "code",
   "execution_count": 10,
   "metadata": {},
   "outputs": [
    {
     "name": "stdout",
     "output_type": "stream",
     "text": [
      "Initial Cluster Centroids :\n",
      "[[6, 6], [8, 3], [5, 7]]\n",
      "Class : \n",
      "[2, 2, 0, 0, 1, 0, 1, 0, 1, 0]\n"
     ]
    }
   ],
   "source": [
    "k = 3\n",
    "yk, clusters = kmean_cluster(k, length, X)"
   ]
  },
  {
   "cell_type": "code",
   "execution_count": 11,
   "metadata": {},
   "outputs": [
    {
     "data": {
      "image/png": "[encoded data removed]",
      "text/plain": [
       "<Figure size 432x288 with 1 Axes>"
      ]
     },
     "metadata": {
      "needs_background": "light"
     },
     "output_type": "display_data"
    }
   ],
   "source": [
    "import matplotlib.pyplot as plt\n",
    "X_0 = []\n",
    "Y_0 = []\n",
    "X_1 = []\n",
    "Y_1 = []\n",
    "X_2 = []\n",
    "Y_2 = []\n",
    "for i in range(len(yk)):\n",
    "    if yk[i] == 0:\n",
    "        X_0.append(X[i][0])\n",
    "        Y_0.append(X[i][1])\n",
    "    elif yk[i] == 1:\n",
    "        X_1.append(X[i][0])\n",
    "        Y_1.append(X[i][1])\n",
    "    else:\n",
    "        X_2.append(X[i][0])\n",
    "        Y_2.append(X[i][1])\n",
    "plt.scatter(X_0, Y_0, s=50, c='blue', marker='s', edgecolor='black', label='Cluster 1')\n",
    "plt.scatter(X_1, Y_1, s=50, c='red', marker='s', edgecolor='black', label='Cluster 2')\n",
    "plt.scatter(X_2, Y_2, s=50, c='purple', marker='s', edgecolor='black', label='Cluster 3')\n",
    "for i in range(len(clusters)):\n",
    "    plt.scatter(clusters[i][0], clusters[i][1], s=100, marker='x', c='pink', label='Centroids')\n",
    "plt.legend(scatterpoints=1)\n",
    "plt.show()"
   ]
  },
  {
   "cell_type": "code",
   "execution_count": 12,
   "metadata": {},
   "outputs": [],
   "source": [
    "X = [[2,4], [2,6], [5,6], [4, 7], [8, 3], [6, 6], [5, 2], [5, 7], [6, 3], [4, 4]]"
   ]
  },
  {
   "cell_type": "code",
   "execution_count": 13,
   "metadata": {},
   "outputs": [
    {
     "data": {
      "text/plain": [
       "array([0, 0, 0, 0, 1, 0, 1, 0, 1, 0])"
      ]
     },
     "execution_count": 13,
     "metadata": {},
     "output_type": "execute_result"
    }
   ],
   "source": [
    "#k-means (with packages)\n",
    "from sklearn.cluster import KMeans\n",
    "kmean = KMeans(n_clusters=2, init='random', n_init=15, random_state=0)\n",
    "yk = kmean.fit_predict(X)\n",
    "yk"
   ]
  },
  {
   "cell_type": "code",
   "execution_count": 14,
   "metadata": {},
   "outputs": [
    {
     "data": {
      "image/png": "[encoded data removed]",
      "text/plain": [
       "<Figure size 432x288 with 1 Axes>"
      ]
     },
     "metadata": {
      "needs_background": "light"
     },
     "output_type": "display_data"
    }
   ],
   "source": [
    "import matplotlib.pyplot as plt\n",
    "X_0 = []\n",
    "Y_0 = []\n",
    "X_1 = []\n",
    "Y_1 = []\n",
    "for i in range(len(yk)):\n",
    "    if(yk[i] == 0):\n",
    "        X_0.append(X[i][0])\n",
    "        Y_0.append(X[i][1])\n",
    "    else:\n",
    "        X_1.append(X[i][0])\n",
    "        Y_1.append(X[i][1])\n",
    "plt.scatter(X_0, Y_0, s=50, c='blue', marker='s', \n",
    "            edgecolor='black', label='Cluster 1')\n",
    "plt.scatter(X_1, Y_1, s=50, c='red', marker='s', \n",
    "            edgecolor='black', label='Cluster 2')\n",
    "plt.scatter(kmean.cluster_centers_[:, 0], kmean.cluster_centers_[:, 1], s=100, marker='x', c='pink', label='Centroids')\n",
    "plt.legend(scatterpoints=1)\n",
    "plt.show()"
   ]
  },
  {
   "cell_type": "code",
   "execution_count": 15,
   "metadata": {},
   "outputs": [
    {
     "data": {
      "text/plain": [
       "array([1, 1, 2, 2, 0, 2, 0, 2, 0, 1])"
      ]
     },
     "execution_count": 15,
     "metadata": {},
     "output_type": "execute_result"
    }
   ],
   "source": [
    "from sklearn.cluster import KMeans\n",
    "kmean = KMeans(n_clusters=3, init='random', n_init=15, random_state=0)\n",
    "yk = kmean.fit_predict(X)\n",
    "yk"
   ]
  },
  {
   "cell_type": "code",
   "execution_count": 16,
   "metadata": {},
   "outputs": [
    {
     "data": {
      "image/png": "[encoded data removed]",
      "text/plain": [
       "<Figure size 432x288 with 1 Axes>"
      ]
     },
     "metadata": {
      "needs_background": "light"
     },
     "output_type": "display_data"
    }
   ],
   "source": [
    "import matplotlib.pyplot as plt\n",
    "X_0 = []\n",
    "Y_0 = []\n",
    "X_1 = []\n",
    "Y_1 = []\n",
    "X_2 = []\n",
    "Y_2 = []\n",
    "for i in range(len(yk)):\n",
    "    if yk[i] == 0:\n",
    "        X_0.append(X[i][0])\n",
    "        Y_0.append(X[i][1])\n",
    "    elif yk[i] == 1:\n",
    "        X_1.append(X[i][0])\n",
    "        Y_1.append(X[i][1])\n",
    "    else:\n",
    "        X_2.append(X[i][0])\n",
    "        Y_2.append(X[i][1])\n",
    "plt.scatter(X_0, Y_0, s=50, c='blue', marker='s', edgecolor='black', label='Cluster 1')\n",
    "plt.scatter(X_1, Y_1, s=50, c='red', marker='s', edgecolor='black', label='Cluster 2')\n",
    "plt.scatter(X_2, Y_2, s=50, c='blue', marker='s', edgecolor='black', label='Cluster 3')\n",
    "plt.scatter(kmean.cluster_centers_[:, 0], kmean.cluster_centers_[:, 1],  s=100, marker='x', c='pink', label='Centroids')\n",
    "plt.legend(scatterpoints=1)\n",
    "plt.show()"
   ]
  },
  {
   "cell_type": "code",
   "execution_count": 17,
   "metadata": {},
   "outputs": [
    {
     "data": {
      "text/plain": [
       "array([1, 1, 0, 0, 3, 0, 2, 0, 2, 2])"
      ]
     },
     "execution_count": 17,
     "metadata": {},
     "output_type": "execute_result"
    }
   ],
   "source": [
    "from sklearn.cluster import KMeans\n",
    "kmean = KMeans(n_clusters=4, init='random', n_init=15, random_state=0)\n",
    "yk = kmean.fit_predict(X)\n",
    "yk"
   ]
  },
  {
   "cell_type": "code",
   "execution_count": 18,
   "metadata": {},
   "outputs": [
    {
     "data": {
      "image/png": "[encoded data removed]",
      "text/plain": [
       "<Figure size 432x288 with 1 Axes>"
      ]
     },
     "metadata": {
      "needs_background": "light"
     },
     "output_type": "display_data"
    }
   ],
   "source": [
    "import matplotlib.pyplot as plt\n",
    "X_0 = []\n",
    "Y_0 = []\n",
    "X_1 = []\n",
    "Y_1 = []\n",
    "X_2 = []\n",
    "Y_2 = []\n",
    "X_3 = []\n",
    "Y_3 = []\n",
    "for i in range(len(yk)):\n",
    "    if yk[i] == 0:\n",
    "        X_0.append(X[i][0])\n",
    "        Y_0.append(X[i][1])\n",
    "    elif yk[i] == 1:\n",
    "        X_1.append(X[i][0])\n",
    "        Y_1.append(X[i][1])\n",
    "    elif yk[i] == 2:\n",
    "        X_2.append(X[i][0])\n",
    "        Y_2.append(X[i][1])\n",
    "    else:\n",
    "        X_3.append(X[i][0])\n",
    "        Y_3.append(X[i][1])\n",
    "plt.scatter(X_0, Y_0, s=50, c='blue', marker='s', edgecolor='black', label='Cluster 1')\n",
    "plt.scatter(X_1, Y_1, s=50, c='red', marker='s', edgecolor='black', label='Cluster 2')\n",
    "plt.scatter(X_2, Y_2, s=50, c='blue', marker='s', edgecolor='black', label='Cluster 3')\n",
    "plt.scatter(X_3, Y_3, s=50, c='orange', marker='s', edgecolor='black', label='Cluster 4')\n",
    "plt.scatter(kmean.cluster_centers_[:, 0], kmean.cluster_centers_[:, 1], s=100, marker='x', c='pink', label='Centroids')\n",
    "plt.legend(scatterpoints=1)\n",
    "plt.show()"
   ]
  },
  {
   "cell_type": "code",
   "execution_count": 19,
   "metadata": {},
   "outputs": [
    {
     "data": {
      "text/plain": [
       "array([3, 4, 0, 0, 2, 0, 1, 0, 1, 3])"
      ]
     },
     "execution_count": 19,
     "metadata": {},
     "output_type": "execute_result"
    }
   ],
   "source": [
    "from sklearn.cluster import KMeans\n",
    "kmean = KMeans(n_clusters=5, init='random', n_init=15, random_state=0)\n",
    "yk = kmean.fit_predict(X)\n",
    "yk"
   ]
  },
  {
   "cell_type": "code",
   "execution_count": 20,
   "metadata": {},
   "outputs": [
    {
     "data": {
      "image/png": "[encoded data removed]",
      "text/plain": [
       "<Figure size 432x288 with 1 Axes>"
      ]
     },
     "metadata": {
      "needs_background": "light"
     },
     "output_type": "display_data"
    }
   ],
   "source": [
    "X_0 = []\n",
    "Y_0 = []\n",
    "X_1 = []\n",
    "Y_1 = []\n",
    "X_2 = []\n",
    "Y_2 = []\n",
    "X_3 = []\n",
    "Y_3 = []\n",
    "X_4 = []\n",
    "Y_4 = []\n",
    "for i in range(len(yk)):\n",
    "    if yk[i] == 0:\n",
    "        X_0.append(X[i][0])\n",
    "        Y_0.append(X[i][1])\n",
    "    elif yk[i] == 1:\n",
    "        X_1.append(X[i][0])\n",
    "        Y_1.append(X[i][1])\n",
    "    elif yk[i] == 2:\n",
    "        X_2.append(X[i][0])\n",
    "        Y_2.append(X[i][1])\n",
    "    elif yk[i] == 3:\n",
    "        X_3.append(X[i][0])\n",
    "        Y_3.append(X[i][1])\n",
    "    else:\n",
    "        X_4.append(X[i][0])\n",
    "        Y_4.append(X[i][1])\n",
    "plt.scatter(X_0, Y_0, s=50, c='blue', marker='s', edgecolor='black', label='Cluster 1')\n",
    "plt.scatter(X_1, Y_1, s=50, c='red', marker='s', edgecolor='black', label='Cluster 2')\n",
    "plt.scatter(X_2, Y_2, s=50, c='blue', marker='s', edgecolor='black', label='Cluster 3')\n",
    "plt.scatter(X_3, Y_3, s=50, c='orange', marker='s', edgecolor='black', label='Cluster 4')\n",
    "plt.scatter(X_4, Y_4, s=50, c='purple', marker='s', edgecolor='black', label='Cluster 5')\n",
    "plt.scatter(kmean.cluster_centers_[:, 0], kmean.cluster_centers_[:, 1], s=100, marker='x', c='pink', label='Centroids')\n",
    "plt.legend(scatterpoints=1)\n",
    "plt.show()"
   ]
  },
  {
   "cell_type": "markdown",
   "metadata": {},
   "source": [
    "## K-Mode Clustering "
   ]
  },
  {
   "cell_type": "code",
   "execution_count": 21,
   "metadata": {},
   "outputs": [
    {
     "name": "stdout",
     "output_type": "stream",
     "text": [
      "Collecting kmodes\n",
      "  Downloading kmodes-0.12.1-py2.py3-none-any.whl (20 kB)\n",
      "Requirement already satisfied: joblib>=0.11 in e:\\anaconda\\lib\\site-packages (from kmodes) (1.0.0)\n",
      "Requirement already satisfied: numpy>=1.10.4 in e:\\anaconda\\lib\\site-packages (from kmodes) (1.19.1)\n",
      "Requirement already satisfied: scikit-learn>=0.22.0 in e:\\anaconda\\lib\\site-packages (from kmodes) (1.0.2)\n",
      "Requirement already satisfied: scipy>=0.13.3 in e:\\anaconda\\lib\\site-packages (from kmodes) (1.5.4)\n",
      "Requirement already satisfied: threadpoolctl>=2.0.0 in e:\\anaconda\\lib\\site-packages (from scikit-learn>=0.22.0->kmodes) (2.1.0)\n",
      "Installing collected packages: kmodes\n",
      "Successfully installed kmodes-0.12.1\n"
     ]
    }
   ],
   "source": [
    "!pip install kmodes\n",
    "from kmodes.kmodes import KModes"
   ]
  },
  {
   "cell_type": "code",
   "execution_count": 22,
   "metadata": {},
   "outputs": [],
   "source": [
    "df=pd.read_csv('bankmarketing.csv')\n",
    "data = df[['age','job', 'marital', 'education', 'default', 'housing', 'loan','contact','month','day_of_week','poutcome']]"
   ]
  },
  {
   "cell_type": "code",
   "execution_count": 23,
   "metadata": {},
   "outputs": [
    {
     "data": {
      "text/html": [
       "<div>\n",
       "<style scoped>\n",
       "    .dataframe tbody tr th:only-of-type {\n",
       "        vertical-align: middle;\n",
       "    }\n",
       "\n",
       "    .dataframe tbody tr th {\n",
       "        vertical-align: top;\n",
       "    }\n",
       "\n",
       "    .dataframe thead th {\n",
       "        text-align: right;\n",
       "    }\n",
       "</style>\n",
       "<table border=\"1\" class=\"dataframe\">\n",
       "  <thead>\n",
       "    <tr style=\"text-align: right;\">\n",
       "      <th></th>\n",
       "      <th>age</th>\n",
       "      <th>job</th>\n",
       "      <th>marital</th>\n",
       "      <th>education</th>\n",
       "      <th>default</th>\n",
       "      <th>housing</th>\n",
       "      <th>loan</th>\n",
       "      <th>contact</th>\n",
       "      <th>month</th>\n",
       "      <th>day_of_week</th>\n",
       "      <th>poutcome</th>\n",
       "    </tr>\n",
       "  </thead>\n",
       "  <tbody>\n",
       "    <tr>\n",
       "      <th>0</th>\n",
       "      <td>56</td>\n",
       "      <td>housemaid</td>\n",
       "      <td>married</td>\n",
       "      <td>basic.4y</td>\n",
       "      <td>no</td>\n",
       "      <td>no</td>\n",
       "      <td>no</td>\n",
       "      <td>telephone</td>\n",
       "      <td>may</td>\n",
       "      <td>mon</td>\n",
       "      <td>nonexistent</td>\n",
       "    </tr>\n",
       "    <tr>\n",
       "      <th>1</th>\n",
       "      <td>57</td>\n",
       "      <td>services</td>\n",
       "      <td>married</td>\n",
       "      <td>high.school</td>\n",
       "      <td>unknown</td>\n",
       "      <td>no</td>\n",
       "      <td>no</td>\n",
       "      <td>telephone</td>\n",
       "      <td>may</td>\n",
       "      <td>mon</td>\n",
       "      <td>nonexistent</td>\n",
       "    </tr>\n",
       "    <tr>\n",
       "      <th>2</th>\n",
       "      <td>37</td>\n",
       "      <td>services</td>\n",
       "      <td>married</td>\n",
       "      <td>high.school</td>\n",
       "      <td>no</td>\n",
       "      <td>yes</td>\n",
       "      <td>no</td>\n",
       "      <td>telephone</td>\n",
       "      <td>may</td>\n",
       "      <td>mon</td>\n",
       "      <td>nonexistent</td>\n",
       "    </tr>\n",
       "    <tr>\n",
       "      <th>3</th>\n",
       "      <td>40</td>\n",
       "      <td>admin.</td>\n",
       "      <td>married</td>\n",
       "      <td>basic.6y</td>\n",
       "      <td>no</td>\n",
       "      <td>no</td>\n",
       "      <td>no</td>\n",
       "      <td>telephone</td>\n",
       "      <td>may</td>\n",
       "      <td>mon</td>\n",
       "      <td>nonexistent</td>\n",
       "    </tr>\n",
       "    <tr>\n",
       "      <th>4</th>\n",
       "      <td>56</td>\n",
       "      <td>services</td>\n",
       "      <td>married</td>\n",
       "      <td>high.school</td>\n",
       "      <td>no</td>\n",
       "      <td>no</td>\n",
       "      <td>yes</td>\n",
       "      <td>telephone</td>\n",
       "      <td>may</td>\n",
       "      <td>mon</td>\n",
       "      <td>nonexistent</td>\n",
       "    </tr>\n",
       "  </tbody>\n",
       "</table>\n",
       "</div>"
      ],
      "text/plain": [
       "   age        job  marital    education  default housing loan    contact  \\\n",
       "0   56  housemaid  married     basic.4y       no      no   no  telephone   \n",
       "1   57   services  married  high.school  unknown      no   no  telephone   \n",
       "2   37   services  married  high.school       no     yes   no  telephone   \n",
       "3   40     admin.  married     basic.6y       no      no   no  telephone   \n",
       "4   56   services  married  high.school       no      no  yes  telephone   \n",
       "\n",
       "  month day_of_week     poutcome  \n",
       "0   may         mon  nonexistent  \n",
       "1   may         mon  nonexistent  \n",
       "2   may         mon  nonexistent  \n",
       "3   may         mon  nonexistent  \n",
       "4   may         mon  nonexistent  "
      ]
     },
     "execution_count": 23,
     "metadata": {},
     "output_type": "execute_result"
    }
   ],
   "source": [
    "data.head()"
   ]
  },
  {
   "cell_type": "code",
   "execution_count": 24,
   "metadata": {},
   "outputs": [
    {
     "name": "stdout",
     "output_type": "stream",
     "text": [
      "<class 'pandas.core.frame.DataFrame'>\n",
      "RangeIndex: 41188 entries, 0 to 41187\n",
      "Data columns (total 11 columns):\n",
      " #   Column       Non-Null Count  Dtype \n",
      "---  ------       --------------  ----- \n",
      " 0   age          41188 non-null  int64 \n",
      " 1   job          41188 non-null  object\n",
      " 2   marital      41188 non-null  object\n",
      " 3   education    41188 non-null  object\n",
      " 4   default      41188 non-null  object\n",
      " 5   housing      41188 non-null  object\n",
      " 6   loan         41188 non-null  object\n",
      " 7   contact      41188 non-null  object\n",
      " 8   month        41188 non-null  object\n",
      " 9   day_of_week  41188 non-null  object\n",
      " 10  poutcome     41188 non-null  object\n",
      "dtypes: int64(1), object(10)\n",
      "memory usage: 3.5+ MB\n"
     ]
    }
   ],
   "source": [
    "data.info()"
   ]
  },
  {
   "cell_type": "code",
   "execution_count": 25,
   "metadata": {},
   "outputs": [
    {
     "data": {
      "text/plain": [
       "array([1, 1, 1, ..., 0, 1, 0], dtype=uint16)"
      ]
     },
     "execution_count": 25,
     "metadata": {},
     "output_type": "execute_result"
    }
   ],
   "source": [
    "km = KModes(n_clusters=2, init='random', n_init=25)\n",
    "yk1 = km.fit_predict(data)\n",
    "yk1"
   ]
  },
  {
   "cell_type": "code",
   "execution_count": 26,
   "metadata": {},
   "outputs": [
    {
     "data": {
      "text/plain": [
       "array([['31', 'admin.', 'married', 'university.degree', 'no', 'yes',\n",
       "        'no', 'cellular', 'may', 'thu', 'nonexistent'],\n",
       "       ['35', 'blue-collar', 'married', 'high.school', 'no', 'no', 'no',\n",
       "        'telephone', 'may', 'fri', 'nonexistent']], dtype='<U17')"
      ]
     },
     "execution_count": 26,
     "metadata": {},
     "output_type": "execute_result"
    }
   ],
   "source": [
    "km.cluster_centroids_"
   ]
  },
  {
   "cell_type": "code",
   "execution_count": 27,
   "metadata": {},
   "outputs": [
    {
     "data": {
      "text/html": [
       "<div>\n",
       "<style scoped>\n",
       "    .dataframe tbody tr th:only-of-type {\n",
       "        vertical-align: middle;\n",
       "    }\n",
       "\n",
       "    .dataframe tbody tr th {\n",
       "        vertical-align: top;\n",
       "    }\n",
       "\n",
       "    .dataframe thead th {\n",
       "        text-align: right;\n",
       "    }\n",
       "</style>\n",
       "<table border=\"1\" class=\"dataframe\">\n",
       "  <thead>\n",
       "    <tr style=\"text-align: right;\">\n",
       "      <th></th>\n",
       "      <th>Cluster</th>\n",
       "      <th>age</th>\n",
       "      <th>job</th>\n",
       "      <th>marital</th>\n",
       "      <th>education</th>\n",
       "      <th>default</th>\n",
       "      <th>housing</th>\n",
       "      <th>loan</th>\n",
       "      <th>contact</th>\n",
       "      <th>month</th>\n",
       "      <th>day_of_week</th>\n",
       "      <th>poutcome</th>\n",
       "    </tr>\n",
       "  </thead>\n",
       "  <tbody>\n",
       "    <tr>\n",
       "      <th>0</th>\n",
       "      <td>1</td>\n",
       "      <td>56</td>\n",
       "      <td>housemaid</td>\n",
       "      <td>married</td>\n",
       "      <td>basic.4y</td>\n",
       "      <td>no</td>\n",
       "      <td>no</td>\n",
       "      <td>no</td>\n",
       "      <td>telephone</td>\n",
       "      <td>may</td>\n",
       "      <td>mon</td>\n",
       "      <td>nonexistent</td>\n",
       "    </tr>\n",
       "    <tr>\n",
       "      <th>1</th>\n",
       "      <td>1</td>\n",
       "      <td>57</td>\n",
       "      <td>services</td>\n",
       "      <td>married</td>\n",
       "      <td>high.school</td>\n",
       "      <td>unknown</td>\n",
       "      <td>no</td>\n",
       "      <td>no</td>\n",
       "      <td>telephone</td>\n",
       "      <td>may</td>\n",
       "      <td>mon</td>\n",
       "      <td>nonexistent</td>\n",
       "    </tr>\n",
       "    <tr>\n",
       "      <th>2</th>\n",
       "      <td>1</td>\n",
       "      <td>37</td>\n",
       "      <td>services</td>\n",
       "      <td>married</td>\n",
       "      <td>high.school</td>\n",
       "      <td>no</td>\n",
       "      <td>yes</td>\n",
       "      <td>no</td>\n",
       "      <td>telephone</td>\n",
       "      <td>may</td>\n",
       "      <td>mon</td>\n",
       "      <td>nonexistent</td>\n",
       "    </tr>\n",
       "    <tr>\n",
       "      <th>3</th>\n",
       "      <td>1</td>\n",
       "      <td>40</td>\n",
       "      <td>admin.</td>\n",
       "      <td>married</td>\n",
       "      <td>basic.6y</td>\n",
       "      <td>no</td>\n",
       "      <td>no</td>\n",
       "      <td>no</td>\n",
       "      <td>telephone</td>\n",
       "      <td>may</td>\n",
       "      <td>mon</td>\n",
       "      <td>nonexistent</td>\n",
       "    </tr>\n",
       "    <tr>\n",
       "      <th>4</th>\n",
       "      <td>1</td>\n",
       "      <td>56</td>\n",
       "      <td>services</td>\n",
       "      <td>married</td>\n",
       "      <td>high.school</td>\n",
       "      <td>no</td>\n",
       "      <td>no</td>\n",
       "      <td>yes</td>\n",
       "      <td>telephone</td>\n",
       "      <td>may</td>\n",
       "      <td>mon</td>\n",
       "      <td>nonexistent</td>\n",
       "    </tr>\n",
       "    <tr>\n",
       "      <th>...</th>\n",
       "      <td>...</td>\n",
       "      <td>...</td>\n",
       "      <td>...</td>\n",
       "      <td>...</td>\n",
       "      <td>...</td>\n",
       "      <td>...</td>\n",
       "      <td>...</td>\n",
       "      <td>...</td>\n",
       "      <td>...</td>\n",
       "      <td>...</td>\n",
       "      <td>...</td>\n",
       "      <td>...</td>\n",
       "    </tr>\n",
       "    <tr>\n",
       "      <th>41183</th>\n",
       "      <td>0</td>\n",
       "      <td>73</td>\n",
       "      <td>retired</td>\n",
       "      <td>married</td>\n",
       "      <td>professional.course</td>\n",
       "      <td>no</td>\n",
       "      <td>yes</td>\n",
       "      <td>no</td>\n",
       "      <td>cellular</td>\n",
       "      <td>nov</td>\n",
       "      <td>fri</td>\n",
       "      <td>nonexistent</td>\n",
       "    </tr>\n",
       "    <tr>\n",
       "      <th>41184</th>\n",
       "      <td>1</td>\n",
       "      <td>46</td>\n",
       "      <td>blue-collar</td>\n",
       "      <td>married</td>\n",
       "      <td>professional.course</td>\n",
       "      <td>no</td>\n",
       "      <td>no</td>\n",
       "      <td>no</td>\n",
       "      <td>cellular</td>\n",
       "      <td>nov</td>\n",
       "      <td>fri</td>\n",
       "      <td>nonexistent</td>\n",
       "    </tr>\n",
       "    <tr>\n",
       "      <th>41185</th>\n",
       "      <td>0</td>\n",
       "      <td>56</td>\n",
       "      <td>retired</td>\n",
       "      <td>married</td>\n",
       "      <td>university.degree</td>\n",
       "      <td>no</td>\n",
       "      <td>yes</td>\n",
       "      <td>no</td>\n",
       "      <td>cellular</td>\n",
       "      <td>nov</td>\n",
       "      <td>fri</td>\n",
       "      <td>nonexistent</td>\n",
       "    </tr>\n",
       "    <tr>\n",
       "      <th>41186</th>\n",
       "      <td>1</td>\n",
       "      <td>44</td>\n",
       "      <td>technician</td>\n",
       "      <td>married</td>\n",
       "      <td>professional.course</td>\n",
       "      <td>no</td>\n",
       "      <td>no</td>\n",
       "      <td>no</td>\n",
       "      <td>cellular</td>\n",
       "      <td>nov</td>\n",
       "      <td>fri</td>\n",
       "      <td>nonexistent</td>\n",
       "    </tr>\n",
       "    <tr>\n",
       "      <th>41187</th>\n",
       "      <td>0</td>\n",
       "      <td>74</td>\n",
       "      <td>retired</td>\n",
       "      <td>married</td>\n",
       "      <td>professional.course</td>\n",
       "      <td>no</td>\n",
       "      <td>yes</td>\n",
       "      <td>no</td>\n",
       "      <td>cellular</td>\n",
       "      <td>nov</td>\n",
       "      <td>fri</td>\n",
       "      <td>failure</td>\n",
       "    </tr>\n",
       "  </tbody>\n",
       "</table>\n",
       "<p>41188 rows × 12 columns</p>\n",
       "</div>"
      ],
      "text/plain": [
       "       Cluster  age          job  marital            education  default  \\\n",
       "0            1   56    housemaid  married             basic.4y       no   \n",
       "1            1   57     services  married          high.school  unknown   \n",
       "2            1   37     services  married          high.school       no   \n",
       "3            1   40       admin.  married             basic.6y       no   \n",
       "4            1   56     services  married          high.school       no   \n",
       "...        ...  ...          ...      ...                  ...      ...   \n",
       "41183        0   73      retired  married  professional.course       no   \n",
       "41184        1   46  blue-collar  married  professional.course       no   \n",
       "41185        0   56      retired  married    university.degree       no   \n",
       "41186        1   44   technician  married  professional.course       no   \n",
       "41187        0   74      retired  married  professional.course       no   \n",
       "\n",
       "      housing loan    contact month day_of_week     poutcome  \n",
       "0          no   no  telephone   may         mon  nonexistent  \n",
       "1          no   no  telephone   may         mon  nonexistent  \n",
       "2         yes   no  telephone   may         mon  nonexistent  \n",
       "3          no   no  telephone   may         mon  nonexistent  \n",
       "4          no  yes  telephone   may         mon  nonexistent  \n",
       "...       ...  ...        ...   ...         ...          ...  \n",
       "41183     yes   no   cellular   nov         fri  nonexistent  \n",
       "41184      no   no   cellular   nov         fri  nonexistent  \n",
       "41185     yes   no   cellular   nov         fri  nonexistent  \n",
       "41186      no   no   cellular   nov         fri  nonexistent  \n",
       "41187     yes   no   cellular   nov         fri      failure  \n",
       "\n",
       "[41188 rows x 12 columns]"
      ]
     },
     "execution_count": 27,
     "metadata": {},
     "output_type": "execute_result"
    }
   ],
   "source": [
    "df1 = data.copy(deep=True)\n",
    "df1.insert(0, \"Cluster\", yk1, True)\n",
    "df1"
   ]
  },
  {
   "cell_type": "code",
   "execution_count": 28,
   "metadata": {},
   "outputs": [
    {
     "data": {
      "text/plain": [
       "array([2, 2, 1, ..., 0, 2, 0], dtype=uint16)"
      ]
     },
     "execution_count": 28,
     "metadata": {},
     "output_type": "execute_result"
    }
   ],
   "source": [
    "km = KModes(n_clusters=3, init='random', n_init=25)\n",
    "yk1 = km.fit_predict(data)\n",
    "yk1"
   ]
  },
  {
   "cell_type": "code",
   "execution_count": 29,
   "metadata": {},
   "outputs": [
    {
     "data": {
      "text/plain": [
       "array([['32', 'admin.', 'married', 'university.degree', 'no', 'yes',\n",
       "        'no', 'cellular', 'aug', 'thu', 'nonexistent'],\n",
       "       ['31', 'admin.', 'single', 'high.school', 'no', 'yes', 'no',\n",
       "        'cellular', 'may', 'mon', 'nonexistent'],\n",
       "       ['36', 'blue-collar', 'married', 'basic.9y', 'no', 'no', 'no',\n",
       "        'telephone', 'may', 'fri', 'nonexistent']], dtype='<U17')"
      ]
     },
     "execution_count": 29,
     "metadata": {},
     "output_type": "execute_result"
    }
   ],
   "source": [
    "km.cluster_centroids_"
   ]
  },
  {
   "cell_type": "code",
   "execution_count": 30,
   "metadata": {},
   "outputs": [
    {
     "data": {
      "text/html": [
       "<div>\n",
       "<style scoped>\n",
       "    .dataframe tbody tr th:only-of-type {\n",
       "        vertical-align: middle;\n",
       "    }\n",
       "\n",
       "    .dataframe tbody tr th {\n",
       "        vertical-align: top;\n",
       "    }\n",
       "\n",
       "    .dataframe thead th {\n",
       "        text-align: right;\n",
       "    }\n",
       "</style>\n",
       "<table border=\"1\" class=\"dataframe\">\n",
       "  <thead>\n",
       "    <tr style=\"text-align: right;\">\n",
       "      <th></th>\n",
       "      <th>Cluster</th>\n",
       "      <th>age</th>\n",
       "      <th>job</th>\n",
       "      <th>marital</th>\n",
       "      <th>education</th>\n",
       "      <th>default</th>\n",
       "      <th>housing</th>\n",
       "      <th>loan</th>\n",
       "      <th>contact</th>\n",
       "      <th>month</th>\n",
       "      <th>day_of_week</th>\n",
       "      <th>poutcome</th>\n",
       "    </tr>\n",
       "  </thead>\n",
       "  <tbody>\n",
       "    <tr>\n",
       "      <th>0</th>\n",
       "      <td>2</td>\n",
       "      <td>56</td>\n",
       "      <td>housemaid</td>\n",
       "      <td>married</td>\n",
       "      <td>basic.4y</td>\n",
       "      <td>no</td>\n",
       "      <td>no</td>\n",
       "      <td>no</td>\n",
       "      <td>telephone</td>\n",
       "      <td>may</td>\n",
       "      <td>mon</td>\n",
       "      <td>nonexistent</td>\n",
       "    </tr>\n",
       "    <tr>\n",
       "      <th>1</th>\n",
       "      <td>2</td>\n",
       "      <td>57</td>\n",
       "      <td>services</td>\n",
       "      <td>married</td>\n",
       "      <td>high.school</td>\n",
       "      <td>unknown</td>\n",
       "      <td>no</td>\n",
       "      <td>no</td>\n",
       "      <td>telephone</td>\n",
       "      <td>may</td>\n",
       "      <td>mon</td>\n",
       "      <td>nonexistent</td>\n",
       "    </tr>\n",
       "    <tr>\n",
       "      <th>2</th>\n",
       "      <td>1</td>\n",
       "      <td>37</td>\n",
       "      <td>services</td>\n",
       "      <td>married</td>\n",
       "      <td>high.school</td>\n",
       "      <td>no</td>\n",
       "      <td>yes</td>\n",
       "      <td>no</td>\n",
       "      <td>telephone</td>\n",
       "      <td>may</td>\n",
       "      <td>mon</td>\n",
       "      <td>nonexistent</td>\n",
       "    </tr>\n",
       "    <tr>\n",
       "      <th>3</th>\n",
       "      <td>2</td>\n",
       "      <td>40</td>\n",
       "      <td>admin.</td>\n",
       "      <td>married</td>\n",
       "      <td>basic.6y</td>\n",
       "      <td>no</td>\n",
       "      <td>no</td>\n",
       "      <td>no</td>\n",
       "      <td>telephone</td>\n",
       "      <td>may</td>\n",
       "      <td>mon</td>\n",
       "      <td>nonexistent</td>\n",
       "    </tr>\n",
       "    <tr>\n",
       "      <th>4</th>\n",
       "      <td>2</td>\n",
       "      <td>56</td>\n",
       "      <td>services</td>\n",
       "      <td>married</td>\n",
       "      <td>high.school</td>\n",
       "      <td>no</td>\n",
       "      <td>no</td>\n",
       "      <td>yes</td>\n",
       "      <td>telephone</td>\n",
       "      <td>may</td>\n",
       "      <td>mon</td>\n",
       "      <td>nonexistent</td>\n",
       "    </tr>\n",
       "    <tr>\n",
       "      <th>...</th>\n",
       "      <td>...</td>\n",
       "      <td>...</td>\n",
       "      <td>...</td>\n",
       "      <td>...</td>\n",
       "      <td>...</td>\n",
       "      <td>...</td>\n",
       "      <td>...</td>\n",
       "      <td>...</td>\n",
       "      <td>...</td>\n",
       "      <td>...</td>\n",
       "      <td>...</td>\n",
       "      <td>...</td>\n",
       "    </tr>\n",
       "    <tr>\n",
       "      <th>41183</th>\n",
       "      <td>0</td>\n",
       "      <td>73</td>\n",
       "      <td>retired</td>\n",
       "      <td>married</td>\n",
       "      <td>professional.course</td>\n",
       "      <td>no</td>\n",
       "      <td>yes</td>\n",
       "      <td>no</td>\n",
       "      <td>cellular</td>\n",
       "      <td>nov</td>\n",
       "      <td>fri</td>\n",
       "      <td>nonexistent</td>\n",
       "    </tr>\n",
       "    <tr>\n",
       "      <th>41184</th>\n",
       "      <td>2</td>\n",
       "      <td>46</td>\n",
       "      <td>blue-collar</td>\n",
       "      <td>married</td>\n",
       "      <td>professional.course</td>\n",
       "      <td>no</td>\n",
       "      <td>no</td>\n",
       "      <td>no</td>\n",
       "      <td>cellular</td>\n",
       "      <td>nov</td>\n",
       "      <td>fri</td>\n",
       "      <td>nonexistent</td>\n",
       "    </tr>\n",
       "    <tr>\n",
       "      <th>41185</th>\n",
       "      <td>0</td>\n",
       "      <td>56</td>\n",
       "      <td>retired</td>\n",
       "      <td>married</td>\n",
       "      <td>university.degree</td>\n",
       "      <td>no</td>\n",
       "      <td>yes</td>\n",
       "      <td>no</td>\n",
       "      <td>cellular</td>\n",
       "      <td>nov</td>\n",
       "      <td>fri</td>\n",
       "      <td>nonexistent</td>\n",
       "    </tr>\n",
       "    <tr>\n",
       "      <th>41186</th>\n",
       "      <td>2</td>\n",
       "      <td>44</td>\n",
       "      <td>technician</td>\n",
       "      <td>married</td>\n",
       "      <td>professional.course</td>\n",
       "      <td>no</td>\n",
       "      <td>no</td>\n",
       "      <td>no</td>\n",
       "      <td>cellular</td>\n",
       "      <td>nov</td>\n",
       "      <td>fri</td>\n",
       "      <td>nonexistent</td>\n",
       "    </tr>\n",
       "    <tr>\n",
       "      <th>41187</th>\n",
       "      <td>0</td>\n",
       "      <td>74</td>\n",
       "      <td>retired</td>\n",
       "      <td>married</td>\n",
       "      <td>professional.course</td>\n",
       "      <td>no</td>\n",
       "      <td>yes</td>\n",
       "      <td>no</td>\n",
       "      <td>cellular</td>\n",
       "      <td>nov</td>\n",
       "      <td>fri</td>\n",
       "      <td>failure</td>\n",
       "    </tr>\n",
       "  </tbody>\n",
       "</table>\n",
       "<p>41188 rows × 12 columns</p>\n",
       "</div>"
      ],
      "text/plain": [
       "       Cluster  age          job  marital            education  default  \\\n",
       "0            2   56    housemaid  married             basic.4y       no   \n",
       "1            2   57     services  married          high.school  unknown   \n",
       "2            1   37     services  married          high.school       no   \n",
       "3            2   40       admin.  married             basic.6y       no   \n",
       "4            2   56     services  married          high.school       no   \n",
       "...        ...  ...          ...      ...                  ...      ...   \n",
       "41183        0   73      retired  married  professional.course       no   \n",
       "41184        2   46  blue-collar  married  professional.course       no   \n",
       "41185        0   56      retired  married    university.degree       no   \n",
       "41186        2   44   technician  married  professional.course       no   \n",
       "41187        0   74      retired  married  professional.course       no   \n",
       "\n",
       "      housing loan    contact month day_of_week     poutcome  \n",
       "0          no   no  telephone   may         mon  nonexistent  \n",
       "1          no   no  telephone   may         mon  nonexistent  \n",
       "2         yes   no  telephone   may         mon  nonexistent  \n",
       "3          no   no  telephone   may         mon  nonexistent  \n",
       "4          no  yes  telephone   may         mon  nonexistent  \n",
       "...       ...  ...        ...   ...         ...          ...  \n",
       "41183     yes   no   cellular   nov         fri  nonexistent  \n",
       "41184      no   no   cellular   nov         fri  nonexistent  \n",
       "41185     yes   no   cellular   nov         fri  nonexistent  \n",
       "41186      no   no   cellular   nov         fri  nonexistent  \n",
       "41187     yes   no   cellular   nov         fri      failure  \n",
       "\n",
       "[41188 rows x 12 columns]"
      ]
     },
     "execution_count": 30,
     "metadata": {},
     "output_type": "execute_result"
    }
   ],
   "source": [
    "df1 = data.copy(deep=True)\n",
    "df1.insert(0, \"Cluster\", yk1, True)\n",
    "df1"
   ]
  }
 ],
 "metadata": {
  "kernelspec": {
   "display_name": "Python 3",
   "language": "python",
   "name": "python3"
  },
  "language_info": {
   "codemirror_mode": {
    "name": "ipython",
    "version": 3
   },
   "file_extension": ".py",
   "mimetype": "text/x-python",
   "name": "python",
   "nbconvert_exporter": "python",
   "pygments_lexer": "ipython3",
   "version": "3.8.5"
  }
 },
 "nbformat": 4,
 "nbformat_minor": 5
}
